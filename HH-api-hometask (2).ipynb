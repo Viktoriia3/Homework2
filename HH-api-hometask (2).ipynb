{
 "cells": [
  {
   "cell_type": "markdown",
   "metadata": {},
   "source": [
    "# Задание\n",
    "* Cкачайте все вакансии СБЕРа из api hh.ru (https://github.com/hhru/api у апи есть ограничение в 2000, подумайте как его обойти)\n",
    "* Извлеките все полные описания этих вакансий по запросу с https://api.hh.ru/vacancies/43326020 где 43326020 id вакансии\n",
    "* Создайте DataFrame в котором будут даты публикации вакансий, названия, описания,  только добавьте поле ключевые навыки\n",
    "* Переведите даты публикаций в формат datetime и постройте график опубликованных вакансий по датам\n",
    "* Переведите даты в дни недели, и определите день недели, в который больше всего публикуют вакансий\n",
    "* Найдите вакансии с использованием python, которые вам интересны\n",
    "* Определите по полю с ключевыми навыками, какие навыки больше всего востребованы для найденных вакансий\n",
    "* Постройте график наиболее востребованных навыков"
   ]
  },
  {
   "cell_type": "code",
   "execution_count": 57,
   "metadata": {},
   "outputs": [],
   "source": [
    "import requests\n",
    "from tqdm.auto import tqdm\n",
    "import pandas as pd\n",
    "import numpy as np\n",
    "import os\n",
    "from datetime import datetime\n",
    "from operator import itemgetter\n",
    "import time"
   ]
  },
  {
   "cell_type": "code",
   "execution_count": 63,
   "metadata": {},
   "outputs": [],
   "source": [
    "sber = '3529'\n",
    "page = 1\n",
    "num_per_page = 100\n",
    "url = f'https://api.hh.ru/vacancies?employer_id={sber}&page={page}&per_page={num_per_page}'"
   ]
  },
  {
   "cell_type": "code",
   "execution_count": 64,
   "metadata": {},
   "outputs": [],
   "source": [
    "res = requests.get(url)\n",
    "vacancies = res.json()\n",
    "num_pages = vacancies.get('pages')\n",
    "vac_num = [el.get('id') for el in vacancies.get('items')]"
   ]
  },
  {
   "cell_type": "code",
   "execution_count": 65,
   "metadata": {},
   "outputs": [
    {
     "data": {
      "application/vnd.jupyter.widget-view+json": {
       "model_id": "f8436315b5304274be7cf225d1dd93d2",
       "version_major": 2,
       "version_minor": 0
      },
      "text/plain": [
       "HBox(children=(HTML(value=''), FloatProgress(value=0.0, max=20.0), HTML(value='')))"
      ]
     },
     "metadata": {},
     "output_type": "display_data"
    },
    {
     "name": "stdout",
     "output_type": "stream",
     "text": [
      "\n"
     ]
    }
   ],
   "source": [
    "all_vac = []\n",
    "for i in tqdm(range(vacancies.get('pages'))):\n",
    "    url = f'https://api.hh.ru/vacancies?employer_id={sber}&page={i}&per_page={num_per_page}'\n",
    "    res = requests.get(url)\n",
    "    vacancies = res.json()\n",
    "    vac_num = [el.get('id') for el in vacancies.get('items')]\n",
    "    all_vac.extend(vac_num)"
   ]
  },
  {
   "cell_type": "code",
   "execution_count": 66,
   "metadata": {},
   "outputs": [
    {
     "data": {
      "text/plain": [
       "2000"
      ]
     },
     "execution_count": 66,
     "metadata": {},
     "output_type": "execute_result"
    }
   ],
   "source": [
    "len(all_vac) #к сожалению так и не сообразила, как сделать полностью"
   ]
  },
  {
   "cell_type": "code",
   "execution_count": 67,
   "metadata": {},
   "outputs": [
    {
     "name": "stdout",
     "output_type": "stream",
     "text": [
      "1\n",
      "2\n",
      "3\n",
      "4\n",
      "5\n",
      "6\n",
      "7\n",
      "8\n",
      "9\n",
      "10\n"
     ]
    }
   ],
   "source": [
    "vacancy_all = [] #Полное описание\n",
    "for ii in range(10): \n",
    "    x=100*ii\n",
    "    ii+=1\n",
    "    y=100*ii\n",
    "    for i in range(x, y): \n",
    "        vac_id = all_vac[i]\n",
    "        url = f'https://api.hh.ru/vacancies/{vac_id}'\n",
    "        res = requests.get(url)\n",
    "        vacancy = res.json()\n",
    "        vacancy_all.append(vacancy)\n",
    "    print(ii)\n",
    "    time.sleep(150)"
   ]
  },
  {
   "cell_type": "code",
   "execution_count": 78,
   "metadata": {},
   "outputs": [
    {
     "data": {
      "text/plain": [
       "{'id': '68148229',\n",
       " 'premium': False,\n",
       " 'name': 'Data Scientist (SberDevices)',\n",
       " 'department': {'id': '3529-3529-it', 'name': 'Сбер. IT'},\n",
       " 'has_test': False,\n",
       " 'response_letter_required': False,\n",
       " 'area': {'id': '1', 'name': 'Москва', 'url': 'https://api.hh.ru/areas/1'},\n",
       " 'salary': None,\n",
       " 'type': {'id': 'open', 'name': 'Открытая'},\n",
       " 'address': {'city': 'Москва',\n",
       "  'street': 'Кутузовский проспект',\n",
       "  'building': '32',\n",
       "  'lat': 55.740421,\n",
       "  'lng': 37.532071,\n",
       "  'description': None,\n",
       "  'raw': 'Москва, Кутузовский проспект, 32',\n",
       "  'metro': {'station_name': 'Кутузовская',\n",
       "   'line_name': 'МЦК',\n",
       "   'station_id': '95.536',\n",
       "   'line_id': '95',\n",
       "   'lat': 55.740833,\n",
       "   'lng': 37.533333},\n",
       "  'metro_stations': [{'station_name': 'Кутузовская',\n",
       "    'line_name': 'МЦК',\n",
       "    'station_id': '95.536',\n",
       "    'line_id': '95',\n",
       "    'lat': 55.740833,\n",
       "    'lng': 37.533333}],\n",
       "  'id': '823806'},\n",
       " 'response_url': None,\n",
       " 'sort_point_distance': None,\n",
       " 'published_at': '2023-03-13T16:00:31+0300',\n",
       " 'created_at': '2023-03-13T16:00:31+0300',\n",
       " 'archived': False,\n",
       " 'apply_alternate_url': 'https://hh.ru/applicant/vacancy_response?vacancyId=68148229',\n",
       " 'insider_interview': None,\n",
       " 'url': 'https://api.hh.ru/vacancies/68148229?host=hh.ru',\n",
       " 'adv_response_url': None,\n",
       " 'alternate_url': 'https://hh.ru/vacancy/68148229',\n",
       " 'relations': [],\n",
       " 'employer': {'id': '3529',\n",
       "  'name': 'СБЕР',\n",
       "  'url': 'https://api.hh.ru/employers/3529',\n",
       "  'alternate_url': 'https://hh.ru/employer/3529',\n",
       "  'logo_urls': {'240': 'https://hhcdn.ru/employer-logo/5756157.png',\n",
       "   '90': 'https://hhcdn.ru/employer-logo/5756156.png',\n",
       "   'original': 'https://hhcdn.ru/employer-logo-original/1033849.png'},\n",
       "  'vacancies_url': 'https://api.hh.ru/vacancies?employer_id=3529',\n",
       "  'trusted': True},\n",
       " 'snippet': {'requirement': 'Глубокое понимание нейросетевых архитектур (CNN, RNN, Transformer, MobileNet). Умение быстро разобрать статью с arxiv. Опыт работы с deep learning фреймворками...',\n",
       "  'responsibility': 'Исследование и разработка моделей распознавания ключевых слов. Детекция рекламы, многоступенчатые модели kws. Фильтрация и обработка речевых данных для обучения. '},\n",
       " 'contacts': None,\n",
       " 'schedule': None,\n",
       " 'working_days': [],\n",
       " 'working_time_intervals': [],\n",
       " 'working_time_modes': [],\n",
       " 'accept_temporary': False,\n",
       " 'professional_roles': [{'id': '96', 'name': 'Программист, разработчик'}],\n",
       " 'accept_incomplete_resumes': False}"
      ]
     },
     "execution_count": 78,
     "metadata": {},
     "output_type": "execute_result"
    }
   ],
   "source": [
    "vacancies.get('items')[0]"
   ]
  },
  {
   "cell_type": "code",
   "execution_count": 79,
   "metadata": {},
   "outputs": [
    {
     "data": {
      "text/plain": [
       "100"
      ]
     },
     "execution_count": 79,
     "metadata": {},
     "output_type": "execute_result"
    }
   ],
   "source": [
    "len(vacancies.get('items'))"
   ]
  },
  {
   "cell_type": "code",
   "execution_count": 80,
   "metadata": {},
   "outputs": [
    {
     "data": {
      "text/plain": [
       "6297"
      ]
     },
     "execution_count": 80,
     "metadata": {},
     "output_type": "execute_result"
    }
   ],
   "source": [
    "vacancies.get('found')"
   ]
  },
  {
   "cell_type": "code",
   "execution_count": 84,
   "metadata": {},
   "outputs": [],
   "source": [
    "vac_information = pd.DataFrame(vacancy_all, columns = ['name','id','description','published_at','key_skills']) #создание датафрейма"
   ]
  },
  {
   "cell_type": "code",
   "execution_count": 88,
   "metadata": {},
   "outputs": [],
   "source": [
    "#перевод в дататайм и построение графика\n",
    "def convert_datetime(x): \n",
    "    if type(x)==str:\n",
    "        new_d = datetime.strptime(x[:10], '%Y-%m-%d')\n",
    "        return new_d\n",
    "    else :\n",
    "        new_d = None \n",
    "        return new_d"
   ]
  },
  {
   "cell_type": "code",
   "execution_count": 89,
   "metadata": {},
   "outputs": [],
   "source": [
    "vac_information['published_at'] = pd.to_datetime(vac_information['published_at'].apply(convert_datetime)) "
   ]
  },
  {
   "cell_type": "code",
   "execution_count": 91,
   "metadata": {
    "collapsed": true
   },
   "outputs": [
    {
     "name": "stdout",
     "output_type": "stream",
     "text": [
      "                                                  name        id  \\\n",
      "0    Стажёр по направлению \"Нагрузочное тестировани...  78413840   \n",
      "1                                               Стажер  77873277   \n",
      "2                                   Аналитик, Sber CIB  77664023   \n",
      "3                               Финансовый консультант  75175324   \n",
      "4                          Стажер (разработчик Python)  78717347   \n",
      "..                                                 ...       ...   \n",
      "995  Специалист дистанционного сбора просроченной з...  78006955   \n",
      "996                        Менеджер легкой дистрибуции  78132005   \n",
      "997               Бизнес - Аналитик (финансовые рынки)  78554953   \n",
      "998         Ведущий инженер по сопровождению HR-систем  78646373   \n",
      "999                   Старший менеджер по обслуживанию  77975866   \n",
      "\n",
      "                                           description published_at  \\\n",
      "0    <p><strong>Оплачиваемая стажировка по направле...   2023-03-22   \n",
      "1    <p>Мы приглашаем исследователей в области маши...   2023-03-10   \n",
      "2    <p>Департамент ключевых клиентов находится в п...   2023-04-02   \n",
      "3    <p> </p> <p><strong>Финансовый консультант </s...   2023-03-14   \n",
      "4    <p>Внедрение новых и сопровождение (доработка/...   2023-03-30   \n",
      "..                                                 ...          ...   \n",
      "995  <p>Сбер – один их самых привлекательных работо...   2023-03-31   \n",
      "996  <p>Эта работа для тех, кто хочет стать мастеро...   2023-03-16   \n",
      "997  <p>Ищем аналитика в команду, работающую над по...   2023-03-27   \n",
      "998  <p>сопровождения HR-систем и разработка платфо...   2023-03-29   \n",
      "999  <p>Сбер — лучший работодатель России. У нас бо...   2023-03-13   \n",
      "\n",
      "                                            key_skills  \n",
      "0    [{'name': 'Java'}, {'name': 'SQL'}, {'name': '...  \n",
      "1                                                   []  \n",
      "2    [{'name': 'Английский язык'}, {'name': 'Подгот...  \n",
      "3    [{'name': 'Деловое общение'}, {'name': 'Активн...  \n",
      "4                                                   []  \n",
      "..                                                 ...  \n",
      "995  [{'name': 'Телефонные переговоры'}, {'name': '...  \n",
      "996                                                 []  \n",
      "997                                                 []  \n",
      "998                                                 []  \n",
      "999                                                 []  \n",
      "\n",
      "[1000 rows x 5 columns]\n"
     ]
    }
   ],
   "source": [
    "print(vac_information)"
   ]
  },
  {
   "cell_type": "code",
   "execution_count": 92,
   "metadata": {},
   "outputs": [
    {
     "name": "stdout",
     "output_type": "stream",
     "text": [
      "<class 'pandas.core.frame.DataFrame'>\n",
      "RangeIndex: 1000 entries, 0 to 999\n",
      "Data columns (total 5 columns):\n",
      " #   Column        Non-Null Count  Dtype         \n",
      "---  ------        --------------  -----         \n",
      " 0   name          1000 non-null   object        \n",
      " 1   id            1000 non-null   object        \n",
      " 2   description   1000 non-null   object        \n",
      " 3   published_at  1000 non-null   datetime64[ns]\n",
      " 4   key_skills    1000 non-null   object        \n",
      "dtypes: datetime64[ns](1), object(4)\n",
      "memory usage: 39.2+ KB\n"
     ]
    }
   ],
   "source": [
    "vac_information.info()"
   ]
  },
  {
   "cell_type": "code",
   "execution_count": 93,
   "metadata": {},
   "outputs": [],
   "source": [
    "vac_date = vac_information.groupby(['published_at']).count() "
   ]
  },
  {
   "cell_type": "code",
   "execution_count": 94,
   "metadata": {},
   "outputs": [],
   "source": [
    "vac_date_plot = pd.DataFrame(vac_date, columns = ['id'])"
   ]
  },
  {
   "cell_type": "code",
   "execution_count": 95,
   "metadata": {},
   "outputs": [
    {
     "data": {
      "text/plain": [
       "<AxesSubplot:xlabel='published_at'>"
      ]
     },
     "execution_count": 95,
     "metadata": {},
     "output_type": "execute_result"
    },
    {
     "data": {
      "image/png": "[encoded data removed]",
      "text/plain": [
       "<Figure size 432x288 with 1 Axes>"
      ]
     },
     "metadata": {
      "needs_background": "light"
     },
     "output_type": "display_data"
    }
   ],
   "source": [
    "vac_date_plot.plot()"
   ]
  },
  {
   "cell_type": "code",
   "execution_count": 110,
   "metadata": {},
   "outputs": [
    {
     "data": {
      "image/png": "[encoded data removed]",
      "text/plain": [
       "<Figure size 432x288 with 1 Axes>"
      ]
     },
     "metadata": {
      "needs_background": "light"
     },
     "output_type": "display_data"
    }
   ],
   "source": [
    "import matplotlib\n",
    "\n",
    "vac_date_plot.plot(color='green')\n",
    "  \n",
    "plt.show() "
   ]
  },
  {
   "cell_type": "code",
   "execution_count": 137,
   "metadata": {},
   "outputs": [],
   "source": [
    "vac_week = pd.DataFrame(vacancy_all, columns = ['name','id','description','published_at','key_skills']) #перевод в дни недели"
   ]
  },
  {
   "cell_type": "code",
   "execution_count": 138,
   "metadata": {},
   "outputs": [],
   "source": [
    "def convert_date_week(x):\n",
    "    if type(x)==str:\n",
    "        new_d = datetime.weekday(datetime.strptime(x[:10], '%Y-%m-%d'))\n",
    "        return new_d\n",
    "    else :\n",
    "        new_d = 6 \n",
    "        return new_d"
   ]
  },
  {
   "cell_type": "code",
   "execution_count": 139,
   "metadata": {},
   "outputs": [],
   "source": [
    "vac_week['published_at'] = vac_week['published_at'].apply(convert_date_week).astype(int)"
   ]
  },
  {
   "cell_type": "code",
   "execution_count": 140,
   "metadata": {},
   "outputs": [
    {
     "data": {
      "text/html": [
       "<div>\n",
       "<style scoped>\n",
       "    .dataframe tbody tr th:only-of-type {\n",
       "        vertical-align: middle;\n",
       "    }\n",
       "\n",
       "    .dataframe tbody tr th {\n",
       "        vertical-align: top;\n",
       "    }\n",
       "\n",
       "    .dataframe thead th {\n",
       "        text-align: right;\n",
       "    }\n",
       "</style>\n",
       "<table border=\"1\" class=\"dataframe\">\n",
       "  <thead>\n",
       "    <tr style=\"text-align: right;\">\n",
       "      <th></th>\n",
       "      <th>name</th>\n",
       "      <th>id</th>\n",
       "      <th>description</th>\n",
       "      <th>key_skills</th>\n",
       "    </tr>\n",
       "    <tr>\n",
       "      <th>published_at</th>\n",
       "      <th></th>\n",
       "      <th></th>\n",
       "      <th></th>\n",
       "      <th></th>\n",
       "    </tr>\n",
       "  </thead>\n",
       "  <tbody>\n",
       "    <tr>\n",
       "      <th>0</th>\n",
       "      <td>196</td>\n",
       "      <td>196</td>\n",
       "      <td>196</td>\n",
       "      <td>196</td>\n",
       "    </tr>\n",
       "    <tr>\n",
       "      <th>1</th>\n",
       "      <td>157</td>\n",
       "      <td>157</td>\n",
       "      <td>157</td>\n",
       "      <td>157</td>\n",
       "    </tr>\n",
       "    <tr>\n",
       "      <th>2</th>\n",
       "      <td>175</td>\n",
       "      <td>175</td>\n",
       "      <td>175</td>\n",
       "      <td>175</td>\n",
       "    </tr>\n",
       "    <tr>\n",
       "      <th>3</th>\n",
       "      <td>180</td>\n",
       "      <td>180</td>\n",
       "      <td>180</td>\n",
       "      <td>180</td>\n",
       "    </tr>\n",
       "    <tr>\n",
       "      <th>4</th>\n",
       "      <td>188</td>\n",
       "      <td>188</td>\n",
       "      <td>188</td>\n",
       "      <td>188</td>\n",
       "    </tr>\n",
       "    <tr>\n",
       "      <th>5</th>\n",
       "      <td>51</td>\n",
       "      <td>51</td>\n",
       "      <td>51</td>\n",
       "      <td>51</td>\n",
       "    </tr>\n",
       "    <tr>\n",
       "      <th>6</th>\n",
       "      <td>53</td>\n",
       "      <td>53</td>\n",
       "      <td>53</td>\n",
       "      <td>53</td>\n",
       "    </tr>\n",
       "  </tbody>\n",
       "</table>\n",
       "</div>"
      ],
      "text/plain": [
       "              name   id  description  key_skills\n",
       "published_at                                    \n",
       "0              196  196          196         196\n",
       "1              157  157          157         157\n",
       "2              175  175          175         175\n",
       "3              180  180          180         180\n",
       "4              188  188          188         188\n",
       "5               51   51           51          51\n",
       "6               53   53           53          53"
      ]
     },
     "execution_count": 140,
     "metadata": {},
     "output_type": "execute_result"
    }
   ],
   "source": [
    "vac_week_count = vac_week.groupby(['published_at']).count()\n",
    "vac_week_count "
   ]
  },
  {
   "cell_type": "code",
   "execution_count": 144,
   "metadata": {
    "collapsed": true
   },
   "outputs": [
    {
     "data": {
      "text/plain": [
       "name           196\n",
       "id             196\n",
       "description    196\n",
       "key_skills     196\n",
       "dtype: int64"
      ]
     },
     "execution_count": 144,
     "metadata": {},
     "output_type": "execute_result"
    }
   ],
   "source": [
    "vac_week_count.max() #больше всеего вакансий в пн"
   ]
  },
  {
   "cell_type": "code",
   "execution_count": 145,
   "metadata": {},
   "outputs": [],
   "source": [
    "vac_fav = pd.DataFrame(vacancy_all, columns = ['name','id','description','published_at','key_skills'])"
   ]
  },
  {
   "cell_type": "code",
   "execution_count": 146,
   "metadata": {},
   "outputs": [],
   "source": [
    "vac_withpython = []\n",
    "for i in range(len(vac_fav)):\n",
    "    if type(vac_fav['name'][i]) == str:\n",
    "        if ('Python' in vac_fav['name'][i]) == True:\n",
    "            vac_withpython.append(vac_fav['name'][i])"
   ]
  },
  {
   "cell_type": "code",
   "execution_count": 147,
   "metadata": {},
   "outputs": [
    {
     "name": "stdout",
     "output_type": "stream",
     "text": [
      "['Стажер (разработчик Python)', 'Аналитик данных со знанием Python', 'Python developer', 'Разработчик Python', 'Python Developer', 'Python-разработчик', 'Python разработчик (Брокерский бизнес)', 'Специалист по оптимизации процессов со знанием Python', 'Специалист по оптимизации процессов со знанием Python', 'Python-разработчик', 'Python-разработчик', 'Программист Python (мониторинг инфраструктуры)', 'Python-разработчик в Цифровые поверхности Салют (Сценарная разработка)', 'Python-разработчик']\n"
     ]
    }
   ],
   "source": [
    "print(vac_withpython) #все вакансии с использованием python"
   ]
  },
  {
   "cell_type": "code",
   "execution_count": 207,
   "metadata": {},
   "outputs": [],
   "source": [
    "#самые распространенные навыки вакансий\n",
    "vac_necskill = pd.DataFrame(vacancy_all, columns = ['name','id','description','published_at','key_skills'])"
   ]
  },
  {
   "cell_type": "code",
   "execution_count": 149,
   "metadata": {},
   "outputs": [],
   "source": [
    "necskill = []\n",
    "for i in range(len(vac_necskill)): \n",
    "    if len(vac_necskill['key_skills'][i]) != 0: \n",
    "        x=vac_necskill['key_skills'][i]\n",
    "        for j in range(len(x)): \n",
    "            necskill.append(x[j]['name'])"
   ]
  },
  {
   "cell_type": "code",
   "execution_count": 150,
   "metadata": {
    "collapsed": true
   },
   "outputs": [
    {
     "name": "stdout",
     "output_type": "stream",
     "text": [
      "['Java', 'SQL', 'Нагрузочное тестирование', 'Английский язык', 'Подготовка презентаций', 'Навыки презентации', 'MS PowerPoint', 'MS Outlook', 'MS Excel', 'Деловое общение', 'Активные продажи', 'Нагрузочное тестирование', 'Деловое общение', 'Деловая переписка', 'Грамотность', 'Грамотная речь', 'Работа в команде', 'Деловая переписка', 'Деловое общение', 'Грамотная речь', 'Деловая коммуникация', 'Atlassian Jira', 'MS SQL', 'Jira', 'Функциональное тестирование', 'Тестирование', 'Телефонные переговоры', 'Грамотная речь', 'Доброта', 'Навыки делового общения', 'Работа с существующей базой клиентов', 'работа с физическими лицами', 'Активные продажи', 'Финансовый анализ', 'Работа в команде', 'Грамотная речь', 'B2C продажи', 'Деловая коммуникация', 'Организаторские навыки', 'Управление проектами', 'Ведение переговоров', 'Работа в команде', 'Анализ ФХД', 'Финансовый анализ', 'Кредиты для бизнеса', 'Анализ инвестиционных проектов', 'Оценка инвестиционных проектов', 'Проектное финансирование', 'Грамотная речь', 'Клиентоориентированность', 'Пользователь ПК', 'Работа в команде', 'Работа с юридическими лицами', 'Консультирование клиентов по телефону', 'Git', 'Atlassian Jira', 'Cucumber', 'Atlassian Confluence', 'Английский язык', 'Деловая переписка', 'Деловое общение', 'Грамотная речь', 'Работа с большим объемом информации', 'Работа в команде', 'Работа с юридическими лицами', 'Консультирование клиентов по телефону', 'Телефонные переговоры', 'Git', 'TypeScript', 'Spring Framework', 'Java', 'React', 'Грамотная речь', 'исходящие звонки', 'Ведение переговоров', 'Деловое общение', 'Телефонные переговоры', 'IT Recruitment', 'Atlassian Confluence', 'Atlassian Jira', 'MS Excel', 'MS PowerPoint', 'JavaScript', 'Git', 'Spring Framework', 'HTML5', 'Redux', 'Активные продажи', 'B2C продажи', 'Поиск и привлечение клиентов', 'Развитие продаж', 'Деловое общение', 'Ведение переговоров', 'Кредиты для бизнеса', 'Анализ инвестиционных проектов', 'Оценка инвестиционных проектов', 'Анализ ФХД', 'Проектное финансирование', 'Анализ ФХД', 'Финансовый анализ', 'Финансовая отчетность', 'Анализ инвестиционных проектов', 'построение финансовых моделей', 'структурирование кредитной сделки', 'Развитие продаж', 'Деловое общение', 'Обучение и развитие', 'Работа с юридическими лицами', 'Design', 'Web', 'Photoshop', 'Adobe Photoshop', 'тренер в спортивном зале', 'QA', 'Web', 'Design', 'Дизайн-мышление', 'Чувство стиля', 'Java', 'Spring Framework', 'ORACLE', 'PostgreSQL', 'Apache Kafka', 'Пользователь ПК', 'Грамотная речь', 'Работа в команде', 'Обучение и развитие', 'Развитие продаж', 'Клиентоориентированность', 'Ведение переговоров', 'Активные продажи', 'Телефонные переговоры', 'MS Excel', 'Прямые продажи', 'Работа с возражениями', 'Выездное обслуживание', 'Выездные мероприятия', 'Анализ ФХД', 'Финансовый анализ', 'Финансовая отчетность', 'Экономический анализ', 'Экономика', 'Право', 'HTML', 'CSS', 'UI', 'Проектирование пользовательских интерфейсов', 'Figma', 'Прототипирование', 'UX', 'Python', 'Linux', 'Git', 'PostgreSQL', 'JavaScript', 'Vue', 'OpenShift', 'MS Excel', 'Анализ данных', 'Linux', 'Bash', 'TCP/IP', 'Node.js', 'JavaScript', 'Желание учиться', 'Техническое обслуживание', 'СКС', 'Аварийно-восстановительные работы', 'Управление проектами', 'Разработка нового продукта', 'Agile', 'Управление проектами', 'Английский язык', 'Atlassian Jira', 'MS Project', 'MS PowerPoint', 'Активные продажи', 'Работа в команде', 'Телефонные переговоры', 'Ведение переговоров', 'Поиск и привлечение клиентов', 'Навыки продаж', 'Работа с юридическими лицами', 'Консультирование клиентов', 'Взаимодействие с надзорными организациями', 'Технический контроль производства', 'Управление производственным персоналом', 'Техническая эксплуатация', 'Деловое общение', 'Поиск и привлечение клиентов', 'Ориентация на результат', 'Клиентоориентированность', 'Ведение переговоров', 'Навыки продаж', 'Активные продажи', 'Проведение презентаций', 'Развитие продаж', 'Работа с большим объемом информации', 'Atlassian Jira', 'Работа в команде', 'Координация проектов', 'MS Outlook', 'Деловая коммуникация', 'Многозадачность', 'Atlassian Confluence', 'C++', 'ML', 'Алгоритмы и структуры данных', 'Python', 'Python', 'SQL', 'Python', 'SQL', 'MS PowerPoint', 'Поиск и привлечение клиентов', 'Активные продажи', 'Управление проектами', 'Деловая коммуникация', 'Широкий кругозор', 'MS Teams', 'Citrix Systems', 'Active Directory', 'Активные продажи', 'Клиентоориентированность', 'Работа в команде', 'Ориентация на клиента', 'Грамотная речь', 'Сопровождение клиентов', 'Работа с большим объемом информации', 'MS Word', 'MS Excel', 'Аналитический склад ума', 'MS PowerPoint', 'UI/UX', 'Дизайн интерфейсов', 'Прототипирование', 'Веб-дизайн', 'Figma', 'MS PowerPoint', 'Английский язык', 'AI', 'Java', 'Управление проектами', 'бэк офис', 'Оптимизация бизнес процессов', 'клиентские данные', 'сопровождение банковских карт, кредитов и вкладов', 'Atlassian Jira', 'Test case', 'SQL', 'Тестирование', 'Atlassian Confluence', 'Atlassian Jira', 'Test case', 'SQL', 'Тестирование', 'Atlassian Confluence', 'Python', 'Kubernetes', 'Linux', 'Управление командой', 'ELK', 'Golang', 'Ruby', 'VictoriaMetrics', 'Atlassian Jira', 'Atlassian Confluence', 'Работа в команде', 'Jira', 'UML', 'Аналитическое мышление', 'Техническая документация', 'Разработка технической документации', 'Анализ финансово-хозяйственной деятельности предприятия', 'Бухгалтерский учет', 'Законодательство РФ', 'Анализ рисков', 'Анализ инвестиционных проектов', 'SQL', 'JUnit', 'Java', 'REST', 'TypeScript', 'Agile', 'React/Redux', 'JavaScript', 'Webpack', 'Docker', 'Golang', 'Kubernetes', 'Redux', 'React', 'TypeScript', 'JS', 'JavaScript', 'Git', 'Figma', 'Readymag', 'BPML', 'Работа с большим объемом информации', 'MS Word', 'MS Excel', 'Аналитический склад ума', 'Big Data', 'Обучение и развитие', 'Администрирование', 'Управление временем', 'Страхование жизни', 'Статистический анализ', 'Qlik Sense', 'Математическая статистика', 'SQL', 'Python', 'Анализ данных', 'Аналитическое мышление', 'Английский язык', 'Java', 'Linux', 'ORACLE', 'OpenShift', 'Грамотность', 'Прямые продажи', 'Финансовый анализ', 'Клиентоориентированность', 'Развитие продаж', 'Ведение переговоров', 'Активные продажи', 'Навыки продаж', 'Проведение презентаций', 'Работа с ключевыми клиентами', 'Работа с юридическими лицами', 'Linux', 'PostgreSQL', 'СУБД', 'Microsoft Access', 'Мониторинг', 'SQL', 'Hive', 'Hadoop', 'Аналитическое мышление', 'Spark', 'Грамотная речь', 'Работа в команде', 'Телефонные переговоры', 'Клиентоориентированность', 'Грамотность', 'Сопровождение клиентов', 'Консультирование клиентов по телефону', 'SQL', 'BPMN', 'Atlassian Confluence', 'Atlassian Jira', 'Работа с большим объемом информации', 'MS Word', 'MS Excel', 'Аналитический склад ума', 'Работа с большим объемом информации', 'MS Word', 'MS Excel', 'Аналитический склад ума', 'Python', 'Linux', 'SQL', 'Jenkins', 'Bash', 'UX', 'Figma', 'Atlassian Jira', 'SQL', 'Postman', 'Git', 'Java', 'SSDLC', 'OWASP', 'SQL', 'Python', 'ETL', 'Spark', 'входящие звонки', 'Грамотная речь', 'Консультирование клиентов по телефону', 'Телефонные переговоры', 'Клиентоориентированность', 'Стрессоустойчивость', 'Инженерные системы', 'Аварийно-восстановительные работы', 'Клиентоориентированность', 'Активные продажи', 'Работа в команде', 'Сопровождение клиентов', 'Консультирование клиентов', 'Поиск и привлечение клиентов', 'Работа в команде', 'Активные продажи', 'Навыки продаж', 'SQL', 'Prometheus', 'Kubernetes', 'Jenkins', 'Intellij IDEA', 'Git', 'OpenShift', 'Bitbucket', 'работа с VIP клиентами', 'Грамотная речь', 'Работа в команде', 'Клиентоориентированность', 'Обучение и развитие', 'входящие звонки', 'Деловая коммуникация', 'Работа с большим объемом информации', 'Пользователь ПК', 'Консультирование клиентов по телефону', 'Техническое обслуживание', 'Настройка сетевых подключений', 'Администрирование серверов', 'Администрирование сетевого оборудования', 'SQL', 'Jenkins', 'ELK', 'ansible', 'Git', 'Linux', 'NLP', 'Python', 'Машинное обучение', 'Деловая переписка', 'Грамотная речь', 'Работа в команде', 'Работа с большим объемом информации', 'Консультирование клиентов', 'Deep Learning', 'Python', 'C++', 'ML', 'Английский язык', 'Деловая коммуникация', 'Проведение презентаций', 'Организаторские навыки', 'B2B Продажи', 'Деловая переписка', 'Деловое общение', 'Обучение и развитие', 'Деловая коммуникация', 'тренер спортивный', 'JS', 'Java Script', 'react.js', 'Redux', 'Redux-saga', 'Деловая переписка', 'Деловое общение', 'Linux', 'Грамотная речь', 'Обучение и развитие', 'Adobe Photoshop', 'Adobe Illustrator', 'Графический дизайн', 'CorelDRAW', 'Английский язык', 'Технические системы и средства безопасности', 'Системы видеонаблюдения', 'Системы безопасности', 'Системы охранно-тревожной сигнализации', 'Техническое обслуживание', 'Java', 'Git', 'Spring Framework', 'Apache Maven', 'Hibernate ORM', 'ИТ аналитика', 'Китайский язык', 'Английский язык', 'Аналитика', 'Анализ финансово-хозяйственной деятельности предприятия', 'Кредитные договоры', 'Продажа страховых продуктов', 'Активные продажи', 'Телефонные переговоры', 'Деловая переписка', 'Go', 'CI/CD', 'PHP', 'Kafka', 'Redis', 'SQL', 'MS Excel', 'Русский язык', 'Работать в команде', 'Опытный пользователь ПК', 'SQL', 'Teradata', 'SQL', 'UML', 'REST', 'XML', 'JSON', 'Написание ТЗ', 'Постановка задач разработчикам', 'финансовые рынки', 'финансовые инструменты', 'глобальные рынки', 'трейдинг', 'брокерская деятельность', 'Spring Framework', 'Docker', 'JSON API', 'Jenkins', 'CI', 'Python', 'MS SQL', 'Проведение презентаций', 'Развитие продаж', 'Деловая переписка', 'Деловое общение', 'Поиск и привлечение клиентов', 'Ruby', 'Python', 'PostgreSQL', 'Metabase', 'Apache Superset', 'Power BI', 'Аналитика', 'Анализ данных', 'Atlassian Jira', 'Confluence', 'ClickHouse', 'swift', 'Objective-C', 'SQL', 'Грамотная речь', 'Работа в команде', 'Телефонные переговоры', 'Деловая переписка', 'Грамотность', 'Пользователь ПК', 'Java', 'Spring Framework', 'Apache Kafka', 'SQL', 'CI/CD', 'Kubernetes', 'Java', 'REST', 'PostgreSQL', 'SQL', 'Управление командой', 'Работа с большим объемом информации', 'Документооборот', 'Linux', 'Nginx', 'Ansible', 'Bash', 'Git', 'Коммуникабельность', 'Грамотная речь', 'Многозадачность', 'Анализ финансово-хозяйственной деятельности', 'Знание особенностей бизнеса', 'Анализ данных', 'Управленческие навыки', 'Ипотечное кредитование', 'Грамотная речь', 'Документальное сопровождение', 'Git', 'PostgreSQL', 'Docker', 'Django Framework', 'Python', 'Bitbucket', 'Знание устройства автомобиля', 'Data Mining', 'Python', 'Анализ данных', 'Linux', 'OpenShift', 'Solaris', 'Jenkins', 'Ansible', 'UML', 'BPMN', 'XML', 'SQL', 'REST', 'SOAP', 'Xsd', 'Архитектура', 'Английский язык', 'Работа в команде', 'MS PowerPoint', 'Дистанционное обучение', 'Деловая переписка', 'Мобильность', 'Работа с большим объемом информации', 'работа в корпоративном университете', 'Excel', 'Организация обучения', 'английский язык b2', 'React', 'Архитектура', 'PostgreSQL', 'Openshift', 'Kubernetes', 'SOAP', 'CI/CD', 'Agile', 'SQL', 'Jenkins', 'XML', 'Zabbix', 'Банковское ПО', 'XML', 'HTML', 'REST', 'Системный анализ', 'интеграции', 'Операционный консалтинг', 'Проектное управление', 'JavaScript', 'Git', 'HTML5', 'CSS3', 'Redux', 'C++', 'Linux', 'Docker', 'Kubernetes', 'UML', 'BPMN', 'SOAP', 'XML', 'JSON', 'Системное мышление', 'Развитие продаж', 'Обучение персонала', 'Linux', 'Деловая переписка', 'Деловое общение', 'Анализ ФХД', 'Финансовый анализ', 'Бухгалтерский учет', 'Spring Framework', 'Java', 'JUnit', 'Деловая коммуникация', 'Работа в команде', 'Планирование карьеры', 'Навыки разрешения спорных ситуаций', 'Спокойствие', 'Работа в условиях многозадачности', 'Проявление тактичности и толерантности', 'грамотная устная речь, хорошо поставленный голос, необходимая дикция', 'Git', 'Spring Framework', 'Java', 'Английский язык', 'Kotlin', 'Коммуникабельность', 'Грамотная речь', 'Многозадачность', 'Анализ финансово-хозяйственной деятельности', 'Знание особенностей бизнеса', 'JavaScript', 'Node.js', 'HTML/CSS', 'Проведение презентаций', 'Прямые продажи', 'Активные продажи', 'Python', 'Hadoop', 'SQL', 'Spark', 'Java', 'Git', 'Spring Framework', 'SQL', 'JDBC', 'JVM', 'REST', 'React', 'Redux', 'JavaScript', 'Docker', 'HTML', 'UML', 'Системный анализ', 'BPMN', 'Разработка технических заданий', 'PostgreSQL', 'СУБД', 'Системное мышление', 'SQL', 'Администрирование серверов Linux', 'Техническая поддержка', 'СУБД', 'Grafana', 'Kibana', 'Linux', 'Внедрение ПО', 'Сопровождение ПО', 'SQL', 'Python', 'PostgreSQL', 'MS SQL', 'Git', 'JSON', 'XML', 'SSL', 'HTTP(S)', 'SQL', 'PostgreSQL', 'Liquibas', 'SOAP UI', 'Postman', 'API/UI', 'Ответственное хранение', 'Работа с документами', 'Работа с документами постоянного хранения', 'Работа с документами длительного хранения', 'Планирование карьеры', 'SQL', 'ООП', 'JavaScript', 'React', 'TypeScript', 'REST', 'API', 'SQL', 'Git', 'Инженерные системы', 'Проектная документация', 'Техническое обслуживание', 'Организаторские навыки', 'Английский язык', 'СКС', 'Деловая переписка', 'Развитие продаж', 'Деловая коммуникация', 'Заключение договоров', 'B2C продажи', 'Активные продажи', 'HP Service Manager', 'Техническая поддержка', 'Helpdesk', 'Администрирование', 'Windows Os', 'Взыскание задолженности', 'Проведение переговоров', 'Деловая переписка', 'Обучение и развитие', 'Linux', 'Деловое общение', 'Обучение персонала', 'Аналитик', 'MS Excel', 'Статистический анализ', 'Spring Framework', 'Java', 'Ведение переговоров', 'Взыскание долгов', 'Руководство коллективом', 'Организаторские навыки', 'Подбор персонала', 'Деловое общение', 'Обучение персонала', 'Python', 'PyTorch', 'Git', 'OpenCV', 'ООП', 'Активные продажи', 'Проведение презентаций', 'Привлечение клиентов', 'Git', 'Flask', 'asyncio', 'Zabbix', 'Python', 'Ansible', 'Взыскание задолженности', 'Телефонные переговоры', 'Работа в команде', 'Коммуникабельность', 'Грамотная речь', 'Многозадачность', 'Бухгалтерский учет', 'B2C продажи', 'Docker', 'DevOps', 'OpenShift', 'Ansible', 'OpenCV', 'C++', 'TypeScript', 'Deep Learning', 'OpenGL', 'Machine Learning', 'PyTorch', 'Python', 'Работа в команде', 'Грамотная речь', 'Ведение переговоров', 'Деловое общение', 'Взыскание задолженности', 'Spring Framework', 'Git', 'Java', 'Apache Maven', 'Hibernate ORM', 'SQL', 'JPA', 'Figma', 'UX', 'Adobe Photoshop', 'UI', 'Дизайн интерфейсов', 'Аналитическое мышление', 'Работа с большим объемом информации', 'Базы данных', 'Сводные таблицы', 'Продвинутый пользователь ПК', 'Excel', 'ВПР', 'Java', 'Apache Kafka', 'Java 11', 'Postgres', 'Spring Framework', 'PostgreSQL', 'Linux', 'Администрирование серверов Linux', 'Bash', 'ansible', 'Ведение переговоров', 'Проведение презентаций', 'Заключение договоров', 'Телефонные переговоры', 'Работа с юридическими лицами', 'Работа в команде', 'Клиентоориентированность', 'Грамотная речь', 'Ориентация на результат', 'Консультирование клиентов', '1С: Предприятие', '1С: Бухгалтерия', 'JavaScript', 'Git', 'Redux', 'React', 'TypeScript', 'Python', 'SQL', 'Анализ данных', 'Atlassian Jira', 'Функциональное тестирование', 'Работа в команде', 'Телефонные переговоры', 'Грамотная речь', 'Ведение переговоров', 'Деловое общение', 'Активные продажи', 'Финансовый анализ', 'Работа в команде', 'Грамотная речь', 'Агентские продажи', 'Навыки публичных выступлений', 'Ведение переговоров', 'Поиск и привлечение клиентов', 'Телефонные переговоры', 'Грамотная речь', 'Взыскание задолженности', '#Оператор_Call_центра', '#Специалист_Call_центра', '#Менеджер_колл_центра', '#Специалист_по_работе_с_клиентами_Оператор_колл_центра', '#Специалист_контактного_центра_Оператор_call_центра', '#Оператор_контакт_центра', '#Специалист_по_работе_с_клиентами', '#Специалист_по_взысканию_задолженности']\n"
     ]
    }
   ],
   "source": [
    "print (necskill)"
   ]
  },
  {
   "cell_type": "code",
   "execution_count": 173,
   "metadata": {},
   "outputs": [],
   "source": [
    "res = max(sorted(necskill, reverse=True), key=lambda x: necskill.count(x)) "
   ]
  },
  {
   "cell_type": "code",
   "execution_count": 174,
   "metadata": {},
   "outputs": [
    {
     "name": "stdout",
     "output_type": "stream",
     "text": [
      "SQL\n"
     ]
    }
   ],
   "source": [
    "print (res)  "
   ]
  },
  {
   "cell_type": "code",
   "execution_count": 182,
   "metadata": {},
   "outputs": [],
   "source": [
    "#не уверена, что праивильно предыдущим методом, нашла еще один способ, но получился такой же ответ\n",
    "def analysis(your_list, your_dict):\n",
    "    for i in your_list:\n",
    "        if i in your_dict:\n",
    "            your_dict[i] += 1\n",
    "        else:\n",
    "            your_dict[i] = 1"
   ]
  },
  {
   "cell_type": "code",
   "execution_count": 185,
   "metadata": {},
   "outputs": [],
   "source": [
    "dct_necskill = {}\n",
    "analysis(necskill, dct_skill)"
   ]
  },
  {
   "cell_type": "code",
   "execution_count": 186,
   "metadata": {},
   "outputs": [],
   "source": [
    "dct_necskill_sort = dict(sorted(dct_skill.items(), key=itemgetter(1), reverse=True))"
   ]
  },
  {
   "cell_type": "code",
   "execution_count": 187,
   "metadata": {},
   "outputs": [],
   "source": [
    "index_for_max = []\n",
    "for i in range(len(dct_necskill_sort.values())):\n",
    "    if list(dct_necskill_sort.values())[i] == max(list(dct_necskill_sort.values())):\n",
    "        index_for_max.append(i)"
   ]
  },
  {
   "cell_type": "code",
   "execution_count": 189,
   "metadata": {},
   "outputs": [
    {
     "name": "stdout",
     "output_type": "stream",
     "text": [
      "\n",
      "SQL\n"
     ]
    }
   ],
   "source": [
    "print()\n",
    "for i in index_for_max:\n",
    "    print(list(dct_necskill_sort.keys())[i])"
   ]
  },
  {
   "cell_type": "code",
   "execution_count": 203,
   "metadata": {},
   "outputs": [
    {
     "name": "stdout",
     "output_type": "stream",
     "text": [
      "Collecting plotly\n",
      "  Downloading plotly-5.14.0-py2.py3-none-any.whl (15.3 MB)\n",
      "Requirement already satisfied: packaging in c:\\programdata\\anaconda3\\lib\\site-packages (from plotly) (20.4)\n",
      "Collecting tenacity>=6.2.0\n",
      "  Downloading tenacity-8.2.2-py3-none-any.whl (24 kB)\n",
      "Requirement already satisfied: pyparsing>=2.0.2 in c:\\programdata\\anaconda3\\lib\\site-packages (from packaging->plotly) (2.4.7)\n",
      "Requirement already satisfied: six in c:\\programdata\\anaconda3\\lib\\site-packages (from packaging->plotly) (1.15.0)\n",
      "Installing collected packages: tenacity, plotly\n",
      "Successfully installed plotly-5.14.0 tenacity-8.2.2\n",
      "Note: you may need to restart the kernel to use updated packages.\n"
     ]
    }
   ],
   "source": [
    "pip install plotly"
   ]
  },
  {
   "cell_type": "code",
   "execution_count": 205,
   "metadata": {},
   "outputs": [
    {
     "data": {
      "application/vnd.plotly.v1+json": {
       "config": {
        "plotlyServerURL": "https://plot.ly"
       },
       "data": [
        {
         "labels": [
          "Java",
          "SQL",
          "Нагрузочное тестирование",
          "Английский язык",
          "Подготовка презентаций",
          "Навыки презентации",
          "MS PowerPoint",
          "MS Outlook",
          "MS Excel",
          "Деловое общение"
         ],
         "type": "pie",
         "values": [
          16,
          31,
          2,
          11,
          1,
          1,
          7,
          2,
          10,
          16
         ]
        }
       ],
       "layout": {
        "template": {
         "data": {
          "bar": [
           {
            "error_x": {
             "color": "#2a3f5f"
            },
            "error_y": {
             "color": "#2a3f5f"
            },
            "marker": {
             "line": {
              "color": "#E5ECF6",
              "width": 0.5
             },
             "pattern": {
              "fillmode": "overlay",
              "size": 10,
              "solidity": 0.2
             }
            },
            "type": "bar"
           }
          ],
          "barpolar": [
           {
            "marker": {
             "line": {
              "color": "#E5ECF6",
              "width": 0.5
             },
             "pattern": {
              "fillmode": "overlay",
              "size": 10,
              "solidity": 0.2
             }
            },
            "type": "barpolar"
           }
          ],
          "carpet": [
           {
            "aaxis": {
             "endlinecolor": "#2a3f5f",
             "gridcolor": "white",
             "linecolor": "white",
             "minorgridcolor": "white",
             "startlinecolor": "#2a3f5f"
            },
            "baxis": {
             "endlinecolor": "#2a3f5f",
             "gridcolor": "white",
             "linecolor": "white",
             "minorgridcolor": "white",
             "startlinecolor": "#2a3f5f"
            },
            "type": "carpet"
           }
          ],
          "choropleth": [
           {
            "colorbar": {
             "outlinewidth": 0,
             "ticks": ""
            },
            "type": "choropleth"
           }
          ],
          "contour": [
           {
            "colorbar": {
             "outlinewidth": 0,
             "ticks": ""
            },
            "colorscale": [
             [
              0,
              "#0d0887"
             ],
             [
              0.1111111111111111,
              "#46039f"
             ],
             [
              0.2222222222222222,
              "#7201a8"
             ],
             [
              0.3333333333333333,
              "#9c179e"
             ],
             [
              0.4444444444444444,
              "#bd3786"
             ],
             [
              0.5555555555555556,
              "#d8576b"
             ],
             [
              0.6666666666666666,
              "#ed7953"
             ],
             [
              0.7777777777777778,
              "#fb9f3a"
             ],
             [
              0.8888888888888888,
              "#fdca26"
             ],
             [
              1,
              "#f0f921"
             ]
            ],
            "type": "contour"
           }
          ],
          "contourcarpet": [
           {
            "colorbar": {
             "outlinewidth": 0,
             "ticks": ""
            },
            "type": "contourcarpet"
           }
          ],
          "heatmap": [
           {
            "colorbar": {
             "outlinewidth": 0,
             "ticks": ""
            },
            "colorscale": [
             [
              0,
              "#0d0887"
             ],
             [
              0.1111111111111111,
              "#46039f"
             ],
             [
              0.2222222222222222,
              "#7201a8"
             ],
             [
              0.3333333333333333,
              "#9c179e"
             ],
             [
              0.4444444444444444,
              "#bd3786"
             ],
             [
              0.5555555555555556,
              "#d8576b"
             ],
             [
              0.6666666666666666,
              "#ed7953"
             ],
             [
              0.7777777777777778,
              "#fb9f3a"
             ],
             [
              0.8888888888888888,
              "#fdca26"
             ],
             [
              1,
              "#f0f921"
             ]
            ],
            "type": "heatmap"
           }
          ],
          "heatmapgl": [
           {
            "colorbar": {
             "outlinewidth": 0,
             "ticks": ""
            },
            "colorscale": [
             [
              0,
              "#0d0887"
             ],
             [
              0.1111111111111111,
              "#46039f"
             ],
             [
              0.2222222222222222,
              "#7201a8"
             ],
             [
              0.3333333333333333,
              "#9c179e"
             ],
             [
              0.4444444444444444,
              "#bd3786"
             ],
             [
              0.5555555555555556,
              "#d8576b"
             ],
             [
              0.6666666666666666,
              "#ed7953"
             ],
             [
              0.7777777777777778,
              "#fb9f3a"
             ],
             [
              0.8888888888888888,
              "#fdca26"
             ],
             [
              1,
              "#f0f921"
             ]
            ],
            "type": "heatmapgl"
           }
          ],
          "histogram": [
           {
            "marker": {
             "pattern": {
              "fillmode": "overlay",
              "size": 10,
              "solidity": 0.2
             }
            },
            "type": "histogram"
           }
          ],
          "histogram2d": [
           {
            "colorbar": {
             "outlinewidth": 0,
             "ticks": ""
            },
            "colorscale": [
             [
              0,
              "#0d0887"
             ],
             [
              0.1111111111111111,
              "#46039f"
             ],
             [
              0.2222222222222222,
              "#7201a8"
             ],
             [
              0.3333333333333333,
              "#9c179e"
             ],
             [
              0.4444444444444444,
              "#bd3786"
             ],
             [
              0.5555555555555556,
              "#d8576b"
             ],
             [
              0.6666666666666666,
              "#ed7953"
             ],
             [
              0.7777777777777778,
              "#fb9f3a"
             ],
             [
              0.8888888888888888,
              "#fdca26"
             ],
             [
              1,
              "#f0f921"
             ]
            ],
            "type": "histogram2d"
           }
          ],
          "histogram2dcontour": [
           {
            "colorbar": {
             "outlinewidth": 0,
             "ticks": ""
            },
            "colorscale": [
             [
              0,
              "#0d0887"
             ],
             [
              0.1111111111111111,
              "#46039f"
             ],
             [
              0.2222222222222222,
              "#7201a8"
             ],
             [
              0.3333333333333333,
              "#9c179e"
             ],
             [
              0.4444444444444444,
              "#bd3786"
             ],
             [
              0.5555555555555556,
              "#d8576b"
             ],
             [
              0.6666666666666666,
              "#ed7953"
             ],
             [
              0.7777777777777778,
              "#fb9f3a"
             ],
             [
              0.8888888888888888,
              "#fdca26"
             ],
             [
              1,
              "#f0f921"
             ]
            ],
            "type": "histogram2dcontour"
           }
          ],
          "mesh3d": [
           {
            "colorbar": {
             "outlinewidth": 0,
             "ticks": ""
            },
            "type": "mesh3d"
           }
          ],
          "parcoords": [
           {
            "line": {
             "colorbar": {
              "outlinewidth": 0,
              "ticks": ""
             }
            },
            "type": "parcoords"
           }
          ],
          "pie": [
           {
            "automargin": true,
            "type": "pie"
           }
          ],
          "scatter": [
           {
            "fillpattern": {
             "fillmode": "overlay",
             "size": 10,
             "solidity": 0.2
            },
            "type": "scatter"
           }
          ],
          "scatter3d": [
           {
            "line": {
             "colorbar": {
              "outlinewidth": 0,
              "ticks": ""
             }
            },
            "marker": {
             "colorbar": {
              "outlinewidth": 0,
              "ticks": ""
             }
            },
            "type": "scatter3d"
           }
          ],
          "scattercarpet": [
           {
            "marker": {
             "colorbar": {
              "outlinewidth": 0,
              "ticks": ""
             }
            },
            "type": "scattercarpet"
           }
          ],
          "scattergeo": [
           {
            "marker": {
             "colorbar": {
              "outlinewidth": 0,
              "ticks": ""
             }
            },
            "type": "scattergeo"
           }
          ],
          "scattergl": [
           {
            "marker": {
             "colorbar": {
              "outlinewidth": 0,
              "ticks": ""
             }
            },
            "type": "scattergl"
           }
          ],
          "scattermapbox": [
           {
            "marker": {
             "colorbar": {
              "outlinewidth": 0,
              "ticks": ""
             }
            },
            "type": "scattermapbox"
           }
          ],
          "scatterpolar": [
           {
            "marker": {
             "colorbar": {
              "outlinewidth": 0,
              "ticks": ""
             }
            },
            "type": "scatterpolar"
           }
          ],
          "scatterpolargl": [
           {
            "marker": {
             "colorbar": {
              "outlinewidth": 0,
              "ticks": ""
             }
            },
            "type": "scatterpolargl"
           }
          ],
          "scatterternary": [
           {
            "marker": {
             "colorbar": {
              "outlinewidth": 0,
              "ticks": ""
             }
            },
            "type": "scatterternary"
           }
          ],
          "surface": [
           {
            "colorbar": {
             "outlinewidth": 0,
             "ticks": ""
            },
            "colorscale": [
             [
              0,
              "#0d0887"
             ],
             [
              0.1111111111111111,
              "#46039f"
             ],
             [
              0.2222222222222222,
              "#7201a8"
             ],
             [
              0.3333333333333333,
              "#9c179e"
             ],
             [
              0.4444444444444444,
              "#bd3786"
             ],
             [
              0.5555555555555556,
              "#d8576b"
             ],
             [
              0.6666666666666666,
              "#ed7953"
             ],
             [
              0.7777777777777778,
              "#fb9f3a"
             ],
             [
              0.8888888888888888,
              "#fdca26"
             ],
             [
              1,
              "#f0f921"
             ]
            ],
            "type": "surface"
           }
          ],
          "table": [
           {
            "cells": {
             "fill": {
              "color": "#EBF0F8"
             },
             "line": {
              "color": "white"
             }
            },
            "header": {
             "fill": {
              "color": "#C8D4E3"
             },
             "line": {
              "color": "white"
             }
            },
            "type": "table"
           }
          ]
         },
         "layout": {
          "annotationdefaults": {
           "arrowcolor": "#2a3f5f",
           "arrowhead": 0,
           "arrowwidth": 1
          },
          "autotypenumbers": "strict",
          "coloraxis": {
           "colorbar": {
            "outlinewidth": 0,
            "ticks": ""
           }
          },
          "colorscale": {
           "diverging": [
            [
             0,
             "#8e0152"
            ],
            [
             0.1,
             "#c51b7d"
            ],
            [
             0.2,
             "#de77ae"
            ],
            [
             0.3,
             "#f1b6da"
            ],
            [
             0.4,
             "#fde0ef"
            ],
            [
             0.5,
             "#f7f7f7"
            ],
            [
             0.6,
             "#e6f5d0"
            ],
            [
             0.7,
             "#b8e186"
            ],
            [
             0.8,
             "#7fbc41"
            ],
            [
             0.9,
             "#4d9221"
            ],
            [
             1,
             "#276419"
            ]
           ],
           "sequential": [
            [
             0,
             "#0d0887"
            ],
            [
             0.1111111111111111,
             "#46039f"
            ],
            [
             0.2222222222222222,
             "#7201a8"
            ],
            [
             0.3333333333333333,
             "#9c179e"
            ],
            [
             0.4444444444444444,
             "#bd3786"
            ],
            [
             0.5555555555555556,
             "#d8576b"
            ],
            [
             0.6666666666666666,
             "#ed7953"
            ],
            [
             0.7777777777777778,
             "#fb9f3a"
            ],
            [
             0.8888888888888888,
             "#fdca26"
            ],
            [
             1,
             "#f0f921"
            ]
           ],
           "sequentialminus": [
            [
             0,
             "#0d0887"
            ],
            [
             0.1111111111111111,
             "#46039f"
            ],
            [
             0.2222222222222222,
             "#7201a8"
            ],
            [
             0.3333333333333333,
             "#9c179e"
            ],
            [
             0.4444444444444444,
             "#bd3786"
            ],
            [
             0.5555555555555556,
             "#d8576b"
            ],
            [
             0.6666666666666666,
             "#ed7953"
            ],
            [
             0.7777777777777778,
             "#fb9f3a"
            ],
            [
             0.8888888888888888,
             "#fdca26"
            ],
            [
             1,
             "#f0f921"
            ]
           ]
          },
          "colorway": [
           "#636efa",
           "#EF553B",
           "#00cc96",
           "#ab63fa",
           "#FFA15A",
           "#19d3f3",
           "#FF6692",
           "#B6E880",
           "#FF97FF",
           "#FECB52"
          ],
          "font": {
           "color": "#2a3f5f"
          },
          "geo": {
           "bgcolor": "white",
           "lakecolor": "white",
           "landcolor": "#E5ECF6",
           "showlakes": true,
           "showland": true,
           "subunitcolor": "white"
          },
          "hoverlabel": {
           "align": "left"
          },
          "hovermode": "closest",
          "mapbox": {
           "style": "light"
          },
          "paper_bgcolor": "white",
          "plot_bgcolor": "#E5ECF6",
          "polar": {
           "angularaxis": {
            "gridcolor": "white",
            "linecolor": "white",
            "ticks": ""
           },
           "bgcolor": "#E5ECF6",
           "radialaxis": {
            "gridcolor": "white",
            "linecolor": "white",
            "ticks": ""
           }
          },
          "scene": {
           "xaxis": {
            "backgroundcolor": "#E5ECF6",
            "gridcolor": "white",
            "gridwidth": 2,
            "linecolor": "white",
            "showbackground": true,
            "ticks": "",
            "zerolinecolor": "white"
           },
           "yaxis": {
            "backgroundcolor": "#E5ECF6",
            "gridcolor": "white",
            "gridwidth": 2,
            "linecolor": "white",
            "showbackground": true,
            "ticks": "",
            "zerolinecolor": "white"
           },
           "zaxis": {
            "backgroundcolor": "#E5ECF6",
            "gridcolor": "white",
            "gridwidth": 2,
            "linecolor": "white",
            "showbackground": true,
            "ticks": "",
            "zerolinecolor": "white"
           }
          },
          "shapedefaults": {
           "line": {
            "color": "#2a3f5f"
           }
          },
          "ternary": {
           "aaxis": {
            "gridcolor": "white",
            "linecolor": "white",
            "ticks": ""
           },
           "baxis": {
            "gridcolor": "white",
            "linecolor": "white",
            "ticks": ""
           },
           "bgcolor": "#E5ECF6",
           "caxis": {
            "gridcolor": "white",
            "linecolor": "white",
            "ticks": ""
           }
          },
          "title": {
           "x": 0.05
          },
          "xaxis": {
           "automargin": true,
           "gridcolor": "white",
           "linecolor": "white",
           "ticks": "",
           "title": {
            "standoff": 15
           },
           "zerolinecolor": "white",
           "zerolinewidth": 2
          },
          "yaxis": {
           "automargin": true,
           "gridcolor": "white",
           "linecolor": "white",
           "ticks": "",
           "title": {
            "standoff": 15
           },
           "zerolinecolor": "white",
           "zerolinewidth": 2
          }
         }
        },
        "title": {
         "text": "Востребованные навыки"
        }
       }
      },
      "text/html": [
       "<div>                            <div id=\"f23837fb-6add-4913-ba12-82dbaf554b83\" class=\"plotly-graph-div\" style=\"height:525px; width:100%;\"></div>            <script type=\"text/javascript\">                require([\"plotly\"], function(Plotly) {                    window.PLOTLYENV=window.PLOTLYENV || {};                                    if (document.getElementById(\"f23837fb-6add-4913-ba12-82dbaf554b83\")) {                    Plotly.newPlot(                        \"f23837fb-6add-4913-ba12-82dbaf554b83\",                        [{\"labels\":[\"Java\",\"SQL\",\"\\u041d\\u0430\\u0433\\u0440\\u0443\\u0437\\u043e\\u0447\\u043d\\u043e\\u0435 \\u0442\\u0435\\u0441\\u0442\\u0438\\u0440\\u043e\\u0432\\u0430\\u043d\\u0438\\u0435\",\"\\u0410\\u043d\\u0433\\u043b\\u0438\\u0439\\u0441\\u043a\\u0438\\u0439 \\u044f\\u0437\\u044b\\u043a\",\"\\u041f\\u043e\\u0434\\u0433\\u043e\\u0442\\u043e\\u0432\\u043a\\u0430 \\u043f\\u0440\\u0435\\u0437\\u0435\\u043d\\u0442\\u0430\\u0446\\u0438\\u0439\",\"\\u041d\\u0430\\u0432\\u044b\\u043a\\u0438 \\u043f\\u0440\\u0435\\u0437\\u0435\\u043d\\u0442\\u0430\\u0446\\u0438\\u0438\",\"MS PowerPoint\",\"MS Outlook\",\"MS Excel\",\"\\u0414\\u0435\\u043b\\u043e\\u0432\\u043e\\u0435 \\u043e\\u0431\\u0449\\u0435\\u043d\\u0438\\u0435\"],\"values\":[16,31,2,11,1,1,7,2,10,16],\"type\":\"pie\"}],                        {\"title\":{\"text\":\"\\u0412\\u043e\\u0441\\u0442\\u0440\\u0435\\u0431\\u043e\\u0432\\u0430\\u043d\\u043d\\u044b\\u0435 \\u043d\\u0430\\u0432\\u044b\\u043a\\u0438\"},\"template\":{\"data\":{\"histogram2dcontour\":[{\"type\":\"histogram2dcontour\",\"colorbar\":{\"outlinewidth\":0,\"ticks\":\"\"},\"colorscale\":[[0.0,\"#0d0887\"],[0.1111111111111111,\"#46039f\"],[0.2222222222222222,\"#7201a8\"],[0.3333333333333333,\"#9c179e\"],[0.4444444444444444,\"#bd3786\"],[0.5555555555555556,\"#d8576b\"],[0.6666666666666666,\"#ed7953\"],[0.7777777777777778,\"#fb9f3a\"],[0.8888888888888888,\"#fdca26\"],[1.0,\"#f0f921\"]]}],\"choropleth\":[{\"type\":\"choropleth\",\"colorbar\":{\"outlinewidth\":0,\"ticks\":\"\"}}],\"histogram2d\":[{\"type\":\"histogram2d\",\"colorbar\":{\"outlinewidth\":0,\"ticks\":\"\"},\"colorscale\":[[0.0,\"#0d0887\"],[0.1111111111111111,\"#46039f\"],[0.2222222222222222,\"#7201a8\"],[0.3333333333333333,\"#9c179e\"],[0.4444444444444444,\"#bd3786\"],[0.5555555555555556,\"#d8576b\"],[0.6666666666666666,\"#ed7953\"],[0.7777777777777778,\"#fb9f3a\"],[0.8888888888888888,\"#fdca26\"],[1.0,\"#f0f921\"]]}],\"heatmap\":[{\"type\":\"heatmap\",\"colorbar\":{\"outlinewidth\":0,\"ticks\":\"\"},\"colorscale\":[[0.0,\"#0d0887\"],[0.1111111111111111,\"#46039f\"],[0.2222222222222222,\"#7201a8\"],[0.3333333333333333,\"#9c179e\"],[0.4444444444444444,\"#bd3786\"],[0.5555555555555556,\"#d8576b\"],[0.6666666666666666,\"#ed7953\"],[0.7777777777777778,\"#fb9f3a\"],[0.8888888888888888,\"#fdca26\"],[1.0,\"#f0f921\"]]}],\"heatmapgl\":[{\"type\":\"heatmapgl\",\"colorbar\":{\"outlinewidth\":0,\"ticks\":\"\"},\"colorscale\":[[0.0,\"#0d0887\"],[0.1111111111111111,\"#46039f\"],[0.2222222222222222,\"#7201a8\"],[0.3333333333333333,\"#9c179e\"],[0.4444444444444444,\"#bd3786\"],[0.5555555555555556,\"#d8576b\"],[0.6666666666666666,\"#ed7953\"],[0.7777777777777778,\"#fb9f3a\"],[0.8888888888888888,\"#fdca26\"],[1.0,\"#f0f921\"]]}],\"contourcarpet\":[{\"type\":\"contourcarpet\",\"colorbar\":{\"outlinewidth\":0,\"ticks\":\"\"}}],\"contour\":[{\"type\":\"contour\",\"colorbar\":{\"outlinewidth\":0,\"ticks\":\"\"},\"colorscale\":[[0.0,\"#0d0887\"],[0.1111111111111111,\"#46039f\"],[0.2222222222222222,\"#7201a8\"],[0.3333333333333333,\"#9c179e\"],[0.4444444444444444,\"#bd3786\"],[0.5555555555555556,\"#d8576b\"],[0.6666666666666666,\"#ed7953\"],[0.7777777777777778,\"#fb9f3a\"],[0.8888888888888888,\"#fdca26\"],[1.0,\"#f0f921\"]]}],\"surface\":[{\"type\":\"surface\",\"colorbar\":{\"outlinewidth\":0,\"ticks\":\"\"},\"colorscale\":[[0.0,\"#0d0887\"],[0.1111111111111111,\"#46039f\"],[0.2222222222222222,\"#7201a8\"],[0.3333333333333333,\"#9c179e\"],[0.4444444444444444,\"#bd3786\"],[0.5555555555555556,\"#d8576b\"],[0.6666666666666666,\"#ed7953\"],[0.7777777777777778,\"#fb9f3a\"],[0.8888888888888888,\"#fdca26\"],[1.0,\"#f0f921\"]]}],\"mesh3d\":[{\"type\":\"mesh3d\",\"colorbar\":{\"outlinewidth\":0,\"ticks\":\"\"}}],\"scatter\":[{\"fillpattern\":{\"fillmode\":\"overlay\",\"size\":10,\"solidity\":0.2},\"type\":\"scatter\"}],\"parcoords\":[{\"type\":\"parcoords\",\"line\":{\"colorbar\":{\"outlinewidth\":0,\"ticks\":\"\"}}}],\"scatterpolargl\":[{\"type\":\"scatterpolargl\",\"marker\":{\"colorbar\":{\"outlinewidth\":0,\"ticks\":\"\"}}}],\"bar\":[{\"error_x\":{\"color\":\"#2a3f5f\"},\"error_y\":{\"color\":\"#2a3f5f\"},\"marker\":{\"line\":{\"color\":\"#E5ECF6\",\"width\":0.5},\"pattern\":{\"fillmode\":\"overlay\",\"size\":10,\"solidity\":0.2}},\"type\":\"bar\"}],\"scattergeo\":[{\"type\":\"scattergeo\",\"marker\":{\"colorbar\":{\"outlinewidth\":0,\"ticks\":\"\"}}}],\"scatterpolar\":[{\"type\":\"scatterpolar\",\"marker\":{\"colorbar\":{\"outlinewidth\":0,\"ticks\":\"\"}}}],\"histogram\":[{\"marker\":{\"pattern\":{\"fillmode\":\"overlay\",\"size\":10,\"solidity\":0.2}},\"type\":\"histogram\"}],\"scattergl\":[{\"type\":\"scattergl\",\"marker\":{\"colorbar\":{\"outlinewidth\":0,\"ticks\":\"\"}}}],\"scatter3d\":[{\"type\":\"scatter3d\",\"line\":{\"colorbar\":{\"outlinewidth\":0,\"ticks\":\"\"}},\"marker\":{\"colorbar\":{\"outlinewidth\":0,\"ticks\":\"\"}}}],\"scattermapbox\":[{\"type\":\"scattermapbox\",\"marker\":{\"colorbar\":{\"outlinewidth\":0,\"ticks\":\"\"}}}],\"scatterternary\":[{\"type\":\"scatterternary\",\"marker\":{\"colorbar\":{\"outlinewidth\":0,\"ticks\":\"\"}}}],\"scattercarpet\":[{\"type\":\"scattercarpet\",\"marker\":{\"colorbar\":{\"outlinewidth\":0,\"ticks\":\"\"}}}],\"carpet\":[{\"aaxis\":{\"endlinecolor\":\"#2a3f5f\",\"gridcolor\":\"white\",\"linecolor\":\"white\",\"minorgridcolor\":\"white\",\"startlinecolor\":\"#2a3f5f\"},\"baxis\":{\"endlinecolor\":\"#2a3f5f\",\"gridcolor\":\"white\",\"linecolor\":\"white\",\"minorgridcolor\":\"white\",\"startlinecolor\":\"#2a3f5f\"},\"type\":\"carpet\"}],\"table\":[{\"cells\":{\"fill\":{\"color\":\"#EBF0F8\"},\"line\":{\"color\":\"white\"}},\"header\":{\"fill\":{\"color\":\"#C8D4E3\"},\"line\":{\"color\":\"white\"}},\"type\":\"table\"}],\"barpolar\":[{\"marker\":{\"line\":{\"color\":\"#E5ECF6\",\"width\":0.5},\"pattern\":{\"fillmode\":\"overlay\",\"size\":10,\"solidity\":0.2}},\"type\":\"barpolar\"}],\"pie\":[{\"automargin\":true,\"type\":\"pie\"}]},\"layout\":{\"autotypenumbers\":\"strict\",\"colorway\":[\"#636efa\",\"#EF553B\",\"#00cc96\",\"#ab63fa\",\"#FFA15A\",\"#19d3f3\",\"#FF6692\",\"#B6E880\",\"#FF97FF\",\"#FECB52\"],\"font\":{\"color\":\"#2a3f5f\"},\"hovermode\":\"closest\",\"hoverlabel\":{\"align\":\"left\"},\"paper_bgcolor\":\"white\",\"plot_bgcolor\":\"#E5ECF6\",\"polar\":{\"bgcolor\":\"#E5ECF6\",\"angularaxis\":{\"gridcolor\":\"white\",\"linecolor\":\"white\",\"ticks\":\"\"},\"radialaxis\":{\"gridcolor\":\"white\",\"linecolor\":\"white\",\"ticks\":\"\"}},\"ternary\":{\"bgcolor\":\"#E5ECF6\",\"aaxis\":{\"gridcolor\":\"white\",\"linecolor\":\"white\",\"ticks\":\"\"},\"baxis\":{\"gridcolor\":\"white\",\"linecolor\":\"white\",\"ticks\":\"\"},\"caxis\":{\"gridcolor\":\"white\",\"linecolor\":\"white\",\"ticks\":\"\"}},\"coloraxis\":{\"colorbar\":{\"outlinewidth\":0,\"ticks\":\"\"}},\"colorscale\":{\"sequential\":[[0.0,\"#0d0887\"],[0.1111111111111111,\"#46039f\"],[0.2222222222222222,\"#7201a8\"],[0.3333333333333333,\"#9c179e\"],[0.4444444444444444,\"#bd3786\"],[0.5555555555555556,\"#d8576b\"],[0.6666666666666666,\"#ed7953\"],[0.7777777777777778,\"#fb9f3a\"],[0.8888888888888888,\"#fdca26\"],[1.0,\"#f0f921\"]],\"sequentialminus\":[[0.0,\"#0d0887\"],[0.1111111111111111,\"#46039f\"],[0.2222222222222222,\"#7201a8\"],[0.3333333333333333,\"#9c179e\"],[0.4444444444444444,\"#bd3786\"],[0.5555555555555556,\"#d8576b\"],[0.6666666666666666,\"#ed7953\"],[0.7777777777777778,\"#fb9f3a\"],[0.8888888888888888,\"#fdca26\"],[1.0,\"#f0f921\"]],\"diverging\":[[0,\"#8e0152\"],[0.1,\"#c51b7d\"],[0.2,\"#de77ae\"],[0.3,\"#f1b6da\"],[0.4,\"#fde0ef\"],[0.5,\"#f7f7f7\"],[0.6,\"#e6f5d0\"],[0.7,\"#b8e186\"],[0.8,\"#7fbc41\"],[0.9,\"#4d9221\"],[1,\"#276419\"]]},\"xaxis\":{\"gridcolor\":\"white\",\"linecolor\":\"white\",\"ticks\":\"\",\"title\":{\"standoff\":15},\"zerolinecolor\":\"white\",\"automargin\":true,\"zerolinewidth\":2},\"yaxis\":{\"gridcolor\":\"white\",\"linecolor\":\"white\",\"ticks\":\"\",\"title\":{\"standoff\":15},\"zerolinecolor\":\"white\",\"automargin\":true,\"zerolinewidth\":2},\"scene\":{\"xaxis\":{\"backgroundcolor\":\"#E5ECF6\",\"gridcolor\":\"white\",\"linecolor\":\"white\",\"showbackground\":true,\"ticks\":\"\",\"zerolinecolor\":\"white\",\"gridwidth\":2},\"yaxis\":{\"backgroundcolor\":\"#E5ECF6\",\"gridcolor\":\"white\",\"linecolor\":\"white\",\"showbackground\":true,\"ticks\":\"\",\"zerolinecolor\":\"white\",\"gridwidth\":2},\"zaxis\":{\"backgroundcolor\":\"#E5ECF6\",\"gridcolor\":\"white\",\"linecolor\":\"white\",\"showbackground\":true,\"ticks\":\"\",\"zerolinecolor\":\"white\",\"gridwidth\":2}},\"shapedefaults\":{\"line\":{\"color\":\"#2a3f5f\"}},\"annotationdefaults\":{\"arrowcolor\":\"#2a3f5f\",\"arrowhead\":0,\"arrowwidth\":1},\"geo\":{\"bgcolor\":\"white\",\"landcolor\":\"#E5ECF6\",\"subunitcolor\":\"white\",\"showland\":true,\"showlakes\":true,\"lakecolor\":\"white\"},\"title\":{\"x\":0.05},\"mapbox\":{\"style\":\"light\"}}}},                        {\"responsive\": true}                    ).then(function(){\n",
       "                            \n",
       "var gd = document.getElementById('f23837fb-6add-4913-ba12-82dbaf554b83');\n",
       "var x = new MutationObserver(function (mutations, observer) {{\n",
       "        var display = window.getComputedStyle(gd).display;\n",
       "        if (!display || display === 'none') {{\n",
       "            console.log([gd, 'removed!']);\n",
       "            Plotly.purge(gd);\n",
       "            observer.disconnect();\n",
       "        }}\n",
       "}});\n",
       "\n",
       "// Listen for the removal of the full notebook cells\n",
       "var notebookContainer = gd.closest('#notebook-container');\n",
       "if (notebookContainer) {{\n",
       "    x.observe(notebookContainer, {childList: true});\n",
       "}}\n",
       "\n",
       "// Listen for the clearing of the current output cell\n",
       "var outputEl = gd.closest('.output');\n",
       "if (outputEl) {{\n",
       "    x.observe(outputEl, {childList: true});\n",
       "}}\n",
       "\n",
       "                        })                };                });            </script>        </div>"
      ]
     },
     "metadata": {},
     "output_type": "display_data"
    }
   ],
   "source": [
    "import plotly as py\n",
    "import plotly.graph_objs as go\n",
    "pyplt=py.offline.plot\n",
    "labels=list(dct_skill.keys())[0:10]\n",
    "values=list(dct_skill.values())[0:10]\n",
    "trace=[go.Pie(labels=labels,values=values)]\n",
    "layout=go.Layout(\n",
    "    title='Востребованные навыки'\n",
    ")\n",
    "fig=go.Figure(data=trace,layout=layout)\n",
    "fig.show()"
   ]
  },
  {
   "cell_type": "code",
   "execution_count": null,
   "metadata": {},
   "outputs": [],
   "source": []
  },
  {
   "cell_type": "code",
   "execution_count": null,
   "metadata": {},
   "outputs": [],
   "source": []
  }
 ],
 "metadata": {
  "kernelspec": {
   "display_name": "Python 3",
   "language": "python",
   "name": "python3"
  },
  "language_info": {
   "codemirror_mode": {
    "name": "ipython",
    "version": 3
   },
   "file_extension": ".py",
   "mimetype": "text/x-python",
   "name": "python",
   "nbconvert_exporter": "python",
   "pygments_lexer": "ipython3",
   "version": "3.8.5"
  }
 },
 "nbformat": 4,
 "nbformat_minor": 4
}
